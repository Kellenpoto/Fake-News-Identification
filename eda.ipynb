{
 "cells": [
  {
   "cell_type": "code",
   "execution_count": 170,
   "source": [
    "import pandas as pd\n",
    "import numpy as np\n",
    "import matplotlib.pyplot as plt\n",
    "from src.models import *\n",
    "plt.style.use('ggplot')"
   ],
   "outputs": [],
   "metadata": {}
  },
  {
   "cell_type": "code",
   "execution_count": 171,
   "source": [
    "from sklearn.pipeline import Pipeline\n",
    "from sklearn.model_selection import train_test_split\n",
    "from sklearn.feature_extraction.text import CountVectorizer, TfidfTransformer\n",
    "from sklearn.naive_bayes import MultinomialNB, ComplementNB\n",
    "from sklearn.linear_model import SGDClassifier, PassiveAggressiveClassifier\n",
    "from sklearn.ensemble import RandomForestClassifier\n",
    "from sklearn.cluster import KMeans\n",
    "from sklearn.metrics import plot_roc_curve, confusion_matrix, classification_report"
   ],
   "outputs": [],
   "metadata": {}
  },
  {
   "cell_type": "code",
   "execution_count": 172,
   "source": [
    "from nltk.tokenize import sent_tokenize\n",
    "import nltk\n",
    "import re\n",
    "# nltk.download()"
   ],
   "outputs": [],
   "metadata": {}
  },
  {
   "cell_type": "code",
   "execution_count": 302,
   "source": [
    "fake_df = pd.read_csv('data/Fake.csv')\n",
    "true_df = pd.read_csv('data/True.csv')"
   ],
   "outputs": [],
   "metadata": {}
  },
  {
   "cell_type": "code",
   "execution_count": 303,
   "source": [
    "fake_df['title'].str.replace(r\"\\(.*\\)\",\"\")\n",
    "fake_df['title'].str.replace('WATCH:', '')"
   ],
   "outputs": [
    {
     "output_type": "execute_result",
     "data": {
      "text/plain": [
       "0         Donald Trump Sends Out Embarrassing New Year’...\n",
       "1         Drunk Bragging Trump Staffer Started Russian ...\n",
       "2         Sheriff David Clarke Becomes An Internet Joke...\n",
       "3         Trump Is So Obsessed He Even Has Obama’s Name...\n",
       "4         Pope Francis Just Called Out Donald Trump Dur...\n",
       "                               ...                        \n",
       "23476    McPain: John McCain Furious That Iran Treated ...\n",
       "23477    JUSTICE? Yahoo Settles E-mail Privacy Class-ac...\n",
       "23478    Sunnistan: US and Allied ‘Safe Zone’ Plan to T...\n",
       "23479    How to Blow $700 Million: Al Jazeera America F...\n",
       "23480    10 U.S. Navy Sailors Held by Iranian Military ...\n",
       "Name: title, Length: 23481, dtype: object"
      ]
     },
     "metadata": {},
     "execution_count": 303
    }
   ],
   "metadata": {}
  },
  {
   "cell_type": "code",
   "execution_count": 285,
   "source": [
    "def remove_organization(x):\n",
    "    lst = sent_tokenize(x)\n",
    "    if lst != [] and ' -' in lst[0]:\n",
    "        lst[0] = lst[0].split(' - ')[1]\n",
    "    return ''.join(lst)"
   ],
   "outputs": [],
   "metadata": {}
  },
  {
   "cell_type": "code",
   "execution_count": 286,
   "source": [
    "def clean_titles(x):\n",
    "    x = x.replace('WATCH:', '')\n",
    "    if '(' in x:\n",
    "        x=x.split('(')[0]\n",
    "    return x"
   ],
   "outputs": [],
   "metadata": {}
  },
  {
   "cell_type": "code",
   "execution_count": 287,
   "source": [
    "true_df.text = true_df.text.apply(remove_organization)"
   ],
   "outputs": [],
   "metadata": {}
  },
  {
   "cell_type": "code",
   "execution_count": 288,
   "source": [
    "fake_df.title = fake_df.title.apply(clean_titles)"
   ],
   "outputs": [],
   "metadata": {}
  },
  {
   "cell_type": "code",
   "execution_count": 289,
   "source": [
    "fake_df['truth'] = 0\n",
    "true_df['truth'] = 1\n",
    "all_news_df = pd.concat([fake_df, true_df])"
   ],
   "outputs": [],
   "metadata": {}
  },
  {
   "cell_type": "code",
   "execution_count": 294,
   "source": [
    "all_news_df.title.iloc[200]"
   ],
   "outputs": [
    {
     "output_type": "execute_result",
     "data": {
      "text/plain": [
       "' Bill Maher Takes Down Trump’s Lying Chief Of Staff In BLISTERING Rebuke '"
      ]
     },
     "metadata": {},
     "execution_count": 294
    }
   ],
   "metadata": {}
  },
  {
   "cell_type": "code",
   "execution_count": 295,
   "source": [
    "X_train, X_test, y_train, y_test = get_X_y_splits(all_news_df, 'title')"
   ],
   "outputs": [],
   "metadata": {}
  },
  {
   "cell_type": "code",
   "execution_count": 296,
   "source": [
    "nb_model = naive_bayes_model(X_train, y_train)"
   ],
   "outputs": [],
   "metadata": {}
  },
  {
   "cell_type": "code",
   "execution_count": 297,
   "source": [
    "nb_model.score(X_test,y_test)"
   ],
   "outputs": [
    {
     "output_type": "execute_result",
     "data": {
      "text/plain": [
       "0.9487750556792873"
      ]
     },
     "metadata": {},
     "execution_count": 297
    }
   ],
   "metadata": {}
  },
  {
   "cell_type": "code",
   "execution_count": 306,
   "source": [
    "bag = nb_model.best_estimator_.named_steps.vect.get_feature_names()\n",
    "# counts = nb_model.best_estimator_.named_steps.vect.fit_transform(X_train)\n",
    "nb_coefs = nb_model.best_estimator_.named_steps.clf.coef_"
   ],
   "outputs": [],
   "metadata": {}
  },
  {
   "cell_type": "code",
   "execution_count": 307,
   "source": [
    "freq_df = pd.DataFrame(index=bag, data={'coefs': nb_coefs[0]})\n",
    "freq_df = freq_df.iloc[(-freq_df['coefs'].abs()).argsort()]\n",
    "freq_df.head(20)"
   ],
   "outputs": [
    {
     "output_type": "execute_result",
     "data": {
      "text/plain": [
       "                       coefs\n",
       "00                -13.123277\n",
       "mode their        -13.123277\n",
       "mode over         -13.123277\n",
       "mode on           -13.123277\n",
       "mode during       -13.123277\n",
       "mode doesn        -13.123277\n",
       "mocks what        -13.123277\n",
       "mocks wh          -13.123277\n",
       "mocks victims     -13.123277\n",
       "mocks unprepared  -13.123277\n",
       "mocks those       -13.123277\n",
       "mocks the         -13.123277\n",
       "mocks sore        -13.123277\n",
       "mocks slain       -13.123277\n",
       "mocks senator     -13.123277\n",
       "mocks ryan        -13.123277\n",
       "mocks rnc         -13.123277\n",
       "mocks republicans -13.123277\n",
       "mocks reporters   -13.123277\n",
       "mocks president   -13.123277"
      ],
      "text/html": [
       "<div>\n",
       "<style scoped>\n",
       "    .dataframe tbody tr th:only-of-type {\n",
       "        vertical-align: middle;\n",
       "    }\n",
       "\n",
       "    .dataframe tbody tr th {\n",
       "        vertical-align: top;\n",
       "    }\n",
       "\n",
       "    .dataframe thead th {\n",
       "        text-align: right;\n",
       "    }\n",
       "</style>\n",
       "<table border=\"1\" class=\"dataframe\">\n",
       "  <thead>\n",
       "    <tr style=\"text-align: right;\">\n",
       "      <th></th>\n",
       "      <th>coefs</th>\n",
       "    </tr>\n",
       "  </thead>\n",
       "  <tbody>\n",
       "    <tr>\n",
       "      <th>00</th>\n",
       "      <td>-13.123277</td>\n",
       "    </tr>\n",
       "    <tr>\n",
       "      <th>mode their</th>\n",
       "      <td>-13.123277</td>\n",
       "    </tr>\n",
       "    <tr>\n",
       "      <th>mode over</th>\n",
       "      <td>-13.123277</td>\n",
       "    </tr>\n",
       "    <tr>\n",
       "      <th>mode on</th>\n",
       "      <td>-13.123277</td>\n",
       "    </tr>\n",
       "    <tr>\n",
       "      <th>mode during</th>\n",
       "      <td>-13.123277</td>\n",
       "    </tr>\n",
       "    <tr>\n",
       "      <th>mode doesn</th>\n",
       "      <td>-13.123277</td>\n",
       "    </tr>\n",
       "    <tr>\n",
       "      <th>mocks what</th>\n",
       "      <td>-13.123277</td>\n",
       "    </tr>\n",
       "    <tr>\n",
       "      <th>mocks wh</th>\n",
       "      <td>-13.123277</td>\n",
       "    </tr>\n",
       "    <tr>\n",
       "      <th>mocks victims</th>\n",
       "      <td>-13.123277</td>\n",
       "    </tr>\n",
       "    <tr>\n",
       "      <th>mocks unprepared</th>\n",
       "      <td>-13.123277</td>\n",
       "    </tr>\n",
       "    <tr>\n",
       "      <th>mocks those</th>\n",
       "      <td>-13.123277</td>\n",
       "    </tr>\n",
       "    <tr>\n",
       "      <th>mocks the</th>\n",
       "      <td>-13.123277</td>\n",
       "    </tr>\n",
       "    <tr>\n",
       "      <th>mocks sore</th>\n",
       "      <td>-13.123277</td>\n",
       "    </tr>\n",
       "    <tr>\n",
       "      <th>mocks slain</th>\n",
       "      <td>-13.123277</td>\n",
       "    </tr>\n",
       "    <tr>\n",
       "      <th>mocks senator</th>\n",
       "      <td>-13.123277</td>\n",
       "    </tr>\n",
       "    <tr>\n",
       "      <th>mocks ryan</th>\n",
       "      <td>-13.123277</td>\n",
       "    </tr>\n",
       "    <tr>\n",
       "      <th>mocks rnc</th>\n",
       "      <td>-13.123277</td>\n",
       "    </tr>\n",
       "    <tr>\n",
       "      <th>mocks republicans</th>\n",
       "      <td>-13.123277</td>\n",
       "    </tr>\n",
       "    <tr>\n",
       "      <th>mocks reporters</th>\n",
       "      <td>-13.123277</td>\n",
       "    </tr>\n",
       "    <tr>\n",
       "      <th>mocks president</th>\n",
       "      <td>-13.123277</td>\n",
       "    </tr>\n",
       "  </tbody>\n",
       "</table>\n",
       "</div>"
      ]
     },
     "metadata": {},
     "execution_count": 307
    }
   ],
   "metadata": {}
  },
  {
   "cell_type": "code",
   "execution_count": null,
   "source": [],
   "outputs": [],
   "metadata": {}
  }
 ],
 "metadata": {
  "interpreter": {
   "hash": "8f0d18fa402493471457a607d29128f0c62e1d9922055715c6c0929ae702655b"
  },
  "kernelspec": {
   "name": "python3",
   "display_name": "Python 3.8.10 64-bit ('base': conda)"
  },
  "language_info": {
   "codemirror_mode": {
    "name": "ipython",
    "version": 3
   },
   "file_extension": ".py",
   "mimetype": "text/x-python",
   "name": "python",
   "nbconvert_exporter": "python",
   "pygments_lexer": "ipython3",
   "version": "3.8.10"
  }
 },
 "nbformat": 4,
 "nbformat_minor": 2
}